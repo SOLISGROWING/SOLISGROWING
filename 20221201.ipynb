{
 "cells": [
  {
   "cell_type": "code",
   "execution_count": null,
   "metadata": {},
   "outputs": [],
   "source": []
  },
  {
   "cell_type": "markdown",
   "metadata": {},
   "source": [
    "# 20221201"
   ]
  },
  {
   "cell_type": "markdown",
   "metadata": {},
   "source": [
    "- Material icon 설치\n",
    "- Night owl 설치"
   ]
  },
  {
   "cell_type": "markdown",
   "metadata": {},
   "source": [
    "- axios 사용법\n",
    "- https://axios-http.com/kr/docs/intro"
   ]
  },
  {
   "cell_type": "markdown",
   "metadata": {},
   "source": [
    "- 주석의 사용법 / ** 누르고 Enter"
   ]
  },
  {
   "cell_type": "markdown",
   "metadata": {},
   "source": [
    "#### 타입스크립트의 장점이란?"
   ]
  },
  {
   "cell_type": "markdown",
   "metadata": {},
   "source": [
    "1. 에러에대한 사전방지\n",
    "2. 코드 가이드 및 자동완성 ( 개발 생산성 향상)"
   ]
  },
  {
   "cell_type": "markdown",
   "metadata": {},
   "source": [
    "#### NPM 세팅"
   ]
  },
  {
   "cell_type": "markdown",
   "metadata": {},
   "source": [
    "- npm i typescript -g => not working\n",
    "- tsc app.ts => not working\n",
    "- npx tsc app.ts => working... why"
   ]
  },
  {
   "cell_type": "markdown",
   "metadata": {},
   "source": [
    "#### 바벨 사이트?"
   ]
  },
  {
   "cell_type": "markdown",
   "metadata": {},
   "source": [
    "- 최대한 많은 브라우저에 호환 할 수 있게 문법을 바꾸어줌"
   ]
  }
 ],
 "metadata": {
  "kernelspec": {
   "display_name": "Python 3.9.13 64-bit (microsoft store)",
   "language": "python",
   "name": "python3"
  },
  "language_info": {
   "name": "python",
   "version": "3.9.13"
  },
  "orig_nbformat": 4,
  "vscode": {
   "interpreter": {
    "hash": "c3b2a32d00204a7a4732e395cd493d62e062bba1284b53c2c1378a8513fbd596"
   }
  }
 },
 "nbformat": 4,
 "nbformat_minor": 2
}
