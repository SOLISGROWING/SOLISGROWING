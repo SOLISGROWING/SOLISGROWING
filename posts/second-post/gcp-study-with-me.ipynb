{
  "cells": [
    {
      "cell_type": "raw",
      "metadata": {},
      "source": [
        "---\n",
        "title: gcp study with me\n",
        "author: yeji\n",
        "date: '2022-12-05'\n",
        "categories:\n",
        "  - study\n",
        "format:\n",
        "  html:\n",
        "    code-fold: true\n",
        "image: gcp.png\n",
        "---"
      ],
      "id": "6b250e09"
    },
    {
      "cell_type": "markdown",
      "metadata": {},
      "source": [
        "### gcp-study and summarize\n"
      ],
      "id": "756eefa3"
    }
  ],
  "metadata": {
    "kernelspec": {
      "display_name": "Python 3",
      "language": "python",
      "name": "python3"
    }
  },
  "nbformat": 4,
  "nbformat_minor": 5
}