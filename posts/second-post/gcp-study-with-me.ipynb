{
 "cells": [
  {
   "cell_type": "markdown",
   "metadata": {},
   "source": [
    "---\n",
    "title: \"gcp study with me\"\n",
    "author: \"yeji\"\n",
    "date: \"2022-12-05\"\n",
    "categories: [study]\n",
    "format:\n",
    "  html:\n",
    "    code-fold: true\n",
    "jupyter: python3\n",
    "---\n"
   ]
  },
  {
   "cell_type": "markdown",
   "metadata": {},
   "source": [
    "### gcp-study and summarize"
   ]
  },
  {
   "cell_type": "markdown",
   "metadata": {},
   "source": []
  }
 ],
 "metadata": {
  "kernelspec": {
   "display_name": "Python 3.9.13 64-bit (microsoft store)",
   "language": "python",
   "name": "python3"
  },
  "language_info": {
   "name": "python",
   "version": "3.9.13"
  },
  "orig_nbformat": 4,
  "vscode": {
   "interpreter": {
    "hash": "c3b2a32d00204a7a4732e395cd493d62e062bba1284b53c2c1378a8513fbd596"
   }
  }
 },
 "nbformat": 4,
 "nbformat_minor": 2
}
