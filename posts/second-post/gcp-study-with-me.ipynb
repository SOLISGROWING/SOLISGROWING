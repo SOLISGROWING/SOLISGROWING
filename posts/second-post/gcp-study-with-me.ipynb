{
  "cells": [
    {
      "cell_type": "raw",
      "id": "6b250e09",
      "metadata": {},
      "source": [
        "---\n",
        "title: gcp study with me\n",
        "author: yeji\n",
        "date: '2022-12-05'\n",
        "categories:\n",
        "  - study\n",
        "  - gcp\n",
        "format:\n",
        "  html:\n",
        "    code-fold: true\n",
        "image: \"gcp.png\"\n",
        "---"
      ]
    },
    {
      "cell_type": "markdown",
      "id": "756eefa3",
      "metadata": {},
      "source": [
        "### gcp-study and summarize\n",
        "\n",
        "---"
      ]
    },
    {
      "cell_type": "markdown",
      "id": "dcc430ab",
      "metadata": {},
      "source": [
        "1. DB 정리하기\n",
        "    - DB 의 종류가... 많아도 너무나 많다\n",
        "    \n",
        "    ![](https://storage.googleapis.com/gweb-cloudblog-publish/original_images/DB_header.png)\n",
        "2. Case study 정리하기\n",
        "    - 수많은...자료\n",
        "3. ★ 기출 분석 ★"
      ]
    }
  ],
  "metadata": {
    "kernelspec": {
      "display_name": "Python 3.9.13 64-bit (microsoft store)",
      "language": "python",
      "name": "python3"
    },
    "language_info": {
      "name": "python",
      "version": "3.9.13"
    },
    "vscode": {
      "interpreter": {
        "hash": "c3b2a32d00204a7a4732e395cd493d62e062bba1284b53c2c1378a8513fbd596"
      }
    }
  },
  "nbformat": 4,
  "nbformat_minor": 5
}
